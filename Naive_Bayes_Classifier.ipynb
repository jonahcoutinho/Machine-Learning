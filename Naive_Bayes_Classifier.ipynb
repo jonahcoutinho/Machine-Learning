{
  "nbformat": 4,
  "nbformat_minor": 0,
  "metadata": {
    "colab": {
      "name": "Naive Bayes Classifier",
      "provenance": [],
      "collapsed_sections": [],
      "include_colab_link": true
    },
    "kernelspec": {
      "display_name": "Python 3",
      "name": "python3"
    }
  },
  "cells": [
    {
      "cell_type": "markdown",
      "metadata": {
        "id": "view-in-github",
        "colab_type": "text"
      },
      "source": [
        "<a href=\"https://colab.research.google.com/github/jonahcoutinho/Machine-Learning/blob/main/Naive_Bayes_Classifier.ipynb\" target=\"_parent\"><img src=\"https://colab.research.google.com/assets/colab-badge.svg\" alt=\"Open In Colab\"/></a>"
      ]
    },
    {
      "cell_type": "markdown",
      "metadata": {
        "id": "0wFvqcSiW4PZ"
      },
      "source": [
        " Naive bayes theorm uses bayes theorm for conditional probability with a naive assumption that the features are not correlated to each other and tries to find conditional probability of target variable given the probabilities of features. We will use titanic survival dataset here and using naive bayes classifier find out the survival probability of titanic travellers. We use sklearn library and python for this beginners machine learning tutorial. GaussianNB is the classifier we use to train our model. "
      ]
    },
    {
      "cell_type": "code",
      "metadata": {
        "id": "TU4W8K42W55q"
      },
      "source": [
        "import pandas as pd\n",
        "import matplotlib.pyplot as plt\n",
        "import numpy as np\n",
        "import seaborn as sns\n",
        "%matplotlib inline\n",
        "from sklearn.model_selection import train_test_split\n",
        "from sklearn.metrics import accuracy_score,confusion_matrix\n",
        "from sklearn.linear_model import LogisticRegression,LinearRegression\n",
        "from sklearn.ensemble import RandomForestClassifier\n",
        "from sklearn.tree import DecisionTreeClassifier\n",
        "from sklearn.svm import SVC\n",
        "from sklearn.cluster import KMeans\n",
        "from sklearn.preprocessing import MinMaxScaler\n",
        "from sklearn.naive_bayes import GaussianNB"
      ],
      "execution_count": 116,
      "outputs": []
    },
    {
      "cell_type": "code",
      "metadata": {
        "id": "4iaa7A_kW7-7"
      },
      "source": [
        "df=pd.read_csv('/content/titanic.csv')"
      ],
      "execution_count": 44,
      "outputs": []
    },
    {
      "cell_type": "code",
      "metadata": {
        "colab": {
          "base_uri": "https://localhost:8080/",
          "height": 391
        },
        "id": "F5tkSN9gXAoo",
        "outputId": "b0ce5d6a-9943-4ced-ca7f-35e1ca05c71c"
      },
      "source": [
        "df.head()"
      ],
      "execution_count": 45,
      "outputs": [
        {
          "output_type": "execute_result",
          "data": {
            "text/html": [
              "<div>\n",
              "<style scoped>\n",
              "    .dataframe tbody tr th:only-of-type {\n",
              "        vertical-align: middle;\n",
              "    }\n",
              "\n",
              "    .dataframe tbody tr th {\n",
              "        vertical-align: top;\n",
              "    }\n",
              "\n",
              "    .dataframe thead th {\n",
              "        text-align: right;\n",
              "    }\n",
              "</style>\n",
              "<table border=\"1\" class=\"dataframe\">\n",
              "  <thead>\n",
              "    <tr style=\"text-align: right;\">\n",
              "      <th></th>\n",
              "      <th>PassengerId</th>\n",
              "      <th>Name</th>\n",
              "      <th>Pclass</th>\n",
              "      <th>Sex</th>\n",
              "      <th>Age</th>\n",
              "      <th>SibSp</th>\n",
              "      <th>Parch</th>\n",
              "      <th>Ticket</th>\n",
              "      <th>Fare</th>\n",
              "      <th>Cabin</th>\n",
              "      <th>Embarked</th>\n",
              "      <th>Survived</th>\n",
              "    </tr>\n",
              "  </thead>\n",
              "  <tbody>\n",
              "    <tr>\n",
              "      <th>0</th>\n",
              "      <td>1</td>\n",
              "      <td>Braund, Mr. Owen Harris</td>\n",
              "      <td>3</td>\n",
              "      <td>male</td>\n",
              "      <td>22.0</td>\n",
              "      <td>1</td>\n",
              "      <td>0</td>\n",
              "      <td>A/5 21171</td>\n",
              "      <td>7.2500</td>\n",
              "      <td>NaN</td>\n",
              "      <td>S</td>\n",
              "      <td>0</td>\n",
              "    </tr>\n",
              "    <tr>\n",
              "      <th>1</th>\n",
              "      <td>2</td>\n",
              "      <td>Cumings, Mrs. John Bradley (Florence Briggs Th...</td>\n",
              "      <td>1</td>\n",
              "      <td>female</td>\n",
              "      <td>38.0</td>\n",
              "      <td>1</td>\n",
              "      <td>0</td>\n",
              "      <td>PC 17599</td>\n",
              "      <td>71.2833</td>\n",
              "      <td>C85</td>\n",
              "      <td>C</td>\n",
              "      <td>1</td>\n",
              "    </tr>\n",
              "    <tr>\n",
              "      <th>2</th>\n",
              "      <td>3</td>\n",
              "      <td>Heikkinen, Miss. Laina</td>\n",
              "      <td>3</td>\n",
              "      <td>female</td>\n",
              "      <td>26.0</td>\n",
              "      <td>0</td>\n",
              "      <td>0</td>\n",
              "      <td>STON/O2. 3101282</td>\n",
              "      <td>7.9250</td>\n",
              "      <td>NaN</td>\n",
              "      <td>S</td>\n",
              "      <td>1</td>\n",
              "    </tr>\n",
              "    <tr>\n",
              "      <th>3</th>\n",
              "      <td>4</td>\n",
              "      <td>Futrelle, Mrs. Jacques Heath (Lily May Peel)</td>\n",
              "      <td>1</td>\n",
              "      <td>female</td>\n",
              "      <td>35.0</td>\n",
              "      <td>1</td>\n",
              "      <td>0</td>\n",
              "      <td>113803</td>\n",
              "      <td>53.1000</td>\n",
              "      <td>C123</td>\n",
              "      <td>S</td>\n",
              "      <td>1</td>\n",
              "    </tr>\n",
              "    <tr>\n",
              "      <th>4</th>\n",
              "      <td>5</td>\n",
              "      <td>Allen, Mr. William Henry</td>\n",
              "      <td>3</td>\n",
              "      <td>male</td>\n",
              "      <td>35.0</td>\n",
              "      <td>0</td>\n",
              "      <td>0</td>\n",
              "      <td>373450</td>\n",
              "      <td>8.0500</td>\n",
              "      <td>NaN</td>\n",
              "      <td>S</td>\n",
              "      <td>0</td>\n",
              "    </tr>\n",
              "  </tbody>\n",
              "</table>\n",
              "</div>"
            ],
            "text/plain": [
              "   PassengerId  ... Survived\n",
              "0            1  ...        0\n",
              "1            2  ...        1\n",
              "2            3  ...        1\n",
              "3            4  ...        1\n",
              "4            5  ...        0\n",
              "\n",
              "[5 rows x 12 columns]"
            ]
          },
          "metadata": {
            "tags": []
          },
          "execution_count": 45
        }
      ]
    },
    {
      "cell_type": "code",
      "metadata": {
        "colab": {
          "base_uri": "https://localhost:8080/"
        },
        "id": "EvqTqW7xX3is",
        "outputId": "076e87a1-c345-4c95-c127-4593d1166b52"
      },
      "source": [
        "df.columns"
      ],
      "execution_count": 46,
      "outputs": [
        {
          "output_type": "execute_result",
          "data": {
            "text/plain": [
              "Index(['PassengerId', 'Name', 'Pclass', 'Sex', 'Age', 'SibSp', 'Parch',\n",
              "       'Ticket', 'Fare', 'Cabin', 'Embarked', 'Survived'],\n",
              "      dtype='object')"
            ]
          },
          "metadata": {
            "tags": []
          },
          "execution_count": 46
        }
      ]
    },
    {
      "cell_type": "code",
      "metadata": {
        "id": "TNWPFSCUXBaR"
      },
      "source": [
        "df.drop(['PassengerId', 'Name',  'SibSp', 'Parch','Ticket','Cabin', 'Embarked'],axis='columns',inplace=True)"
      ],
      "execution_count": 47,
      "outputs": []
    },
    {
      "cell_type": "code",
      "metadata": {
        "colab": {
          "base_uri": "https://localhost:8080/",
          "height": 204
        },
        "id": "kZDlwuwoYEVB",
        "outputId": "ddaab4dc-d75c-459b-fe30-1bb6765ad211"
      },
      "source": [
        "df.head()"
      ],
      "execution_count": 48,
      "outputs": [
        {
          "output_type": "execute_result",
          "data": {
            "text/html": [
              "<div>\n",
              "<style scoped>\n",
              "    .dataframe tbody tr th:only-of-type {\n",
              "        vertical-align: middle;\n",
              "    }\n",
              "\n",
              "    .dataframe tbody tr th {\n",
              "        vertical-align: top;\n",
              "    }\n",
              "\n",
              "    .dataframe thead th {\n",
              "        text-align: right;\n",
              "    }\n",
              "</style>\n",
              "<table border=\"1\" class=\"dataframe\">\n",
              "  <thead>\n",
              "    <tr style=\"text-align: right;\">\n",
              "      <th></th>\n",
              "      <th>Pclass</th>\n",
              "      <th>Sex</th>\n",
              "      <th>Age</th>\n",
              "      <th>Fare</th>\n",
              "      <th>Survived</th>\n",
              "    </tr>\n",
              "  </thead>\n",
              "  <tbody>\n",
              "    <tr>\n",
              "      <th>0</th>\n",
              "      <td>3</td>\n",
              "      <td>male</td>\n",
              "      <td>22.0</td>\n",
              "      <td>7.2500</td>\n",
              "      <td>0</td>\n",
              "    </tr>\n",
              "    <tr>\n",
              "      <th>1</th>\n",
              "      <td>1</td>\n",
              "      <td>female</td>\n",
              "      <td>38.0</td>\n",
              "      <td>71.2833</td>\n",
              "      <td>1</td>\n",
              "    </tr>\n",
              "    <tr>\n",
              "      <th>2</th>\n",
              "      <td>3</td>\n",
              "      <td>female</td>\n",
              "      <td>26.0</td>\n",
              "      <td>7.9250</td>\n",
              "      <td>1</td>\n",
              "    </tr>\n",
              "    <tr>\n",
              "      <th>3</th>\n",
              "      <td>1</td>\n",
              "      <td>female</td>\n",
              "      <td>35.0</td>\n",
              "      <td>53.1000</td>\n",
              "      <td>1</td>\n",
              "    </tr>\n",
              "    <tr>\n",
              "      <th>4</th>\n",
              "      <td>3</td>\n",
              "      <td>male</td>\n",
              "      <td>35.0</td>\n",
              "      <td>8.0500</td>\n",
              "      <td>0</td>\n",
              "    </tr>\n",
              "  </tbody>\n",
              "</table>\n",
              "</div>"
            ],
            "text/plain": [
              "   Pclass     Sex   Age     Fare  Survived\n",
              "0       3    male  22.0   7.2500         0\n",
              "1       1  female  38.0  71.2833         1\n",
              "2       3  female  26.0   7.9250         1\n",
              "3       1  female  35.0  53.1000         1\n",
              "4       3    male  35.0   8.0500         0"
            ]
          },
          "metadata": {
            "tags": []
          },
          "execution_count": 48
        }
      ]
    },
    {
      "cell_type": "code",
      "metadata": {
        "id": "5_4kFdMVYJyh"
      },
      "source": [
        "target=df.Survived\n",
        "input=df.drop('Survived',axis='columns')"
      ],
      "execution_count": 49,
      "outputs": []
    },
    {
      "cell_type": "code",
      "metadata": {
        "colab": {
          "base_uri": "https://localhost:8080/",
          "height": 204
        },
        "id": "rV_5kIAoYSsR",
        "outputId": "1959a46f-02a8-446f-bdc4-6fa3910b3d87"
      },
      "source": [
        "input.head()"
      ],
      "execution_count": 50,
      "outputs": [
        {
          "output_type": "execute_result",
          "data": {
            "text/html": [
              "<div>\n",
              "<style scoped>\n",
              "    .dataframe tbody tr th:only-of-type {\n",
              "        vertical-align: middle;\n",
              "    }\n",
              "\n",
              "    .dataframe tbody tr th {\n",
              "        vertical-align: top;\n",
              "    }\n",
              "\n",
              "    .dataframe thead th {\n",
              "        text-align: right;\n",
              "    }\n",
              "</style>\n",
              "<table border=\"1\" class=\"dataframe\">\n",
              "  <thead>\n",
              "    <tr style=\"text-align: right;\">\n",
              "      <th></th>\n",
              "      <th>Pclass</th>\n",
              "      <th>Sex</th>\n",
              "      <th>Age</th>\n",
              "      <th>Fare</th>\n",
              "    </tr>\n",
              "  </thead>\n",
              "  <tbody>\n",
              "    <tr>\n",
              "      <th>0</th>\n",
              "      <td>3</td>\n",
              "      <td>male</td>\n",
              "      <td>22.0</td>\n",
              "      <td>7.2500</td>\n",
              "    </tr>\n",
              "    <tr>\n",
              "      <th>1</th>\n",
              "      <td>1</td>\n",
              "      <td>female</td>\n",
              "      <td>38.0</td>\n",
              "      <td>71.2833</td>\n",
              "    </tr>\n",
              "    <tr>\n",
              "      <th>2</th>\n",
              "      <td>3</td>\n",
              "      <td>female</td>\n",
              "      <td>26.0</td>\n",
              "      <td>7.9250</td>\n",
              "    </tr>\n",
              "    <tr>\n",
              "      <th>3</th>\n",
              "      <td>1</td>\n",
              "      <td>female</td>\n",
              "      <td>35.0</td>\n",
              "      <td>53.1000</td>\n",
              "    </tr>\n",
              "    <tr>\n",
              "      <th>4</th>\n",
              "      <td>3</td>\n",
              "      <td>male</td>\n",
              "      <td>35.0</td>\n",
              "      <td>8.0500</td>\n",
              "    </tr>\n",
              "  </tbody>\n",
              "</table>\n",
              "</div>"
            ],
            "text/plain": [
              "   Pclass     Sex   Age     Fare\n",
              "0       3    male  22.0   7.2500\n",
              "1       1  female  38.0  71.2833\n",
              "2       3  female  26.0   7.9250\n",
              "3       1  female  35.0  53.1000\n",
              "4       3    male  35.0   8.0500"
            ]
          },
          "metadata": {
            "tags": []
          },
          "execution_count": 50
        }
      ]
    },
    {
      "cell_type": "code",
      "metadata": {
        "colab": {
          "base_uri": "https://localhost:8080/",
          "height": 419
        },
        "id": "1ncyXzZWYYnB",
        "outputId": "97e88f66-82f4-4263-8af2-5140509f34d0"
      },
      "source": [
        "#sex has to be made into dummies\n",
        "\n",
        "dummies=pd.get_dummies(input.Sex)\n",
        "dummies"
      ],
      "execution_count": 51,
      "outputs": [
        {
          "output_type": "execute_result",
          "data": {
            "text/html": [
              "<div>\n",
              "<style scoped>\n",
              "    .dataframe tbody tr th:only-of-type {\n",
              "        vertical-align: middle;\n",
              "    }\n",
              "\n",
              "    .dataframe tbody tr th {\n",
              "        vertical-align: top;\n",
              "    }\n",
              "\n",
              "    .dataframe thead th {\n",
              "        text-align: right;\n",
              "    }\n",
              "</style>\n",
              "<table border=\"1\" class=\"dataframe\">\n",
              "  <thead>\n",
              "    <tr style=\"text-align: right;\">\n",
              "      <th></th>\n",
              "      <th>female</th>\n",
              "      <th>male</th>\n",
              "    </tr>\n",
              "  </thead>\n",
              "  <tbody>\n",
              "    <tr>\n",
              "      <th>0</th>\n",
              "      <td>0</td>\n",
              "      <td>1</td>\n",
              "    </tr>\n",
              "    <tr>\n",
              "      <th>1</th>\n",
              "      <td>1</td>\n",
              "      <td>0</td>\n",
              "    </tr>\n",
              "    <tr>\n",
              "      <th>2</th>\n",
              "      <td>1</td>\n",
              "      <td>0</td>\n",
              "    </tr>\n",
              "    <tr>\n",
              "      <th>3</th>\n",
              "      <td>1</td>\n",
              "      <td>0</td>\n",
              "    </tr>\n",
              "    <tr>\n",
              "      <th>4</th>\n",
              "      <td>0</td>\n",
              "      <td>1</td>\n",
              "    </tr>\n",
              "    <tr>\n",
              "      <th>...</th>\n",
              "      <td>...</td>\n",
              "      <td>...</td>\n",
              "    </tr>\n",
              "    <tr>\n",
              "      <th>886</th>\n",
              "      <td>0</td>\n",
              "      <td>1</td>\n",
              "    </tr>\n",
              "    <tr>\n",
              "      <th>887</th>\n",
              "      <td>1</td>\n",
              "      <td>0</td>\n",
              "    </tr>\n",
              "    <tr>\n",
              "      <th>888</th>\n",
              "      <td>1</td>\n",
              "      <td>0</td>\n",
              "    </tr>\n",
              "    <tr>\n",
              "      <th>889</th>\n",
              "      <td>0</td>\n",
              "      <td>1</td>\n",
              "    </tr>\n",
              "    <tr>\n",
              "      <th>890</th>\n",
              "      <td>0</td>\n",
              "      <td>1</td>\n",
              "    </tr>\n",
              "  </tbody>\n",
              "</table>\n",
              "<p>891 rows × 2 columns</p>\n",
              "</div>"
            ],
            "text/plain": [
              "     female  male\n",
              "0         0     1\n",
              "1         1     0\n",
              "2         1     0\n",
              "3         1     0\n",
              "4         0     1\n",
              "..      ...   ...\n",
              "886       0     1\n",
              "887       1     0\n",
              "888       1     0\n",
              "889       0     1\n",
              "890       0     1\n",
              "\n",
              "[891 rows x 2 columns]"
            ]
          },
          "metadata": {
            "tags": []
          },
          "execution_count": 51
        }
      ]
    },
    {
      "cell_type": "code",
      "metadata": {
        "id": "pMqUzFTXYiwD"
      },
      "source": [
        "#great now we can add this to inputs , drop sex and drop any one\n",
        "input=pd.concat([input,dummies],axis='columns')"
      ],
      "execution_count": 52,
      "outputs": []
    },
    {
      "cell_type": "code",
      "metadata": {
        "colab": {
          "base_uri": "https://localhost:8080/"
        },
        "id": "pKK4j_ECZjPZ",
        "outputId": "14dc3c40-954f-4be8-e9f3-ce59b20e79b2"
      },
      "source": [
        "input.isnull().sum()"
      ],
      "execution_count": 53,
      "outputs": [
        {
          "output_type": "execute_result",
          "data": {
            "text/plain": [
              "Pclass      0\n",
              "Sex         0\n",
              "Age       177\n",
              "Fare        0\n",
              "female      0\n",
              "male        0\n",
              "dtype: int64"
            ]
          },
          "metadata": {
            "tags": []
          },
          "execution_count": 53
        }
      ]
    },
    {
      "cell_type": "markdown",
      "metadata": {
        "id": "7Rz83OyeZ8_t"
      },
      "source": [
        "Here we see that there are 177 null age entries.\n",
        "Lets fill them with mean"
      ]
    },
    {
      "cell_type": "code",
      "metadata": {
        "id": "rQzQNjUxaDeT"
      },
      "source": [
        "input.Age.fillna(input.Age.mean(),inplace=True)"
      ],
      "execution_count": 54,
      "outputs": []
    },
    {
      "cell_type": "code",
      "metadata": {
        "colab": {
          "base_uri": "https://localhost:8080/"
        },
        "id": "sgm7QL_waV4-",
        "outputId": "bf6ce56d-faa2-412e-b515-372fce81f18b"
      },
      "source": [
        "input.isnull().sum()"
      ],
      "execution_count": 55,
      "outputs": [
        {
          "output_type": "execute_result",
          "data": {
            "text/plain": [
              "Pclass    0\n",
              "Sex       0\n",
              "Age       0\n",
              "Fare      0\n",
              "female    0\n",
              "male      0\n",
              "dtype: int64"
            ]
          },
          "metadata": {
            "tags": []
          },
          "execution_count": 55
        }
      ]
    },
    {
      "cell_type": "markdown",
      "metadata": {
        "id": "Cb7vqnjpaXJe"
      },
      "source": [
        "Great!"
      ]
    },
    {
      "cell_type": "code",
      "metadata": {
        "colab": {
          "base_uri": "https://localhost:8080/",
          "height": 306
        },
        "id": "46tHTHK2cAUr",
        "outputId": "d65b6f6d-3905-4cb1-a6f1-c44a02f9a04a"
      },
      "source": [
        "input=input.drop(['Sex'],axis='columns')"
      ],
      "execution_count": 88,
      "outputs": [
        {
          "output_type": "error",
          "ename": "KeyError",
          "evalue": "ignored",
          "traceback": [
            "\u001b[0;31m---------------------------------------------------------------------------\u001b[0m",
            "\u001b[0;31mKeyError\u001b[0m                                  Traceback (most recent call last)",
            "\u001b[0;32m<ipython-input-88-b9f3beb47f92>\u001b[0m in \u001b[0;36m<module>\u001b[0;34m()\u001b[0m\n\u001b[0;32m----> 1\u001b[0;31m \u001b[0minput\u001b[0m\u001b[0;34m=\u001b[0m\u001b[0minput\u001b[0m\u001b[0;34m.\u001b[0m\u001b[0mdrop\u001b[0m\u001b[0;34m(\u001b[0m\u001b[0;34m[\u001b[0m\u001b[0;34m'Sex'\u001b[0m\u001b[0;34m]\u001b[0m\u001b[0;34m,\u001b[0m\u001b[0maxis\u001b[0m\u001b[0;34m=\u001b[0m\u001b[0;34m'columns'\u001b[0m\u001b[0;34m)\u001b[0m\u001b[0;34m\u001b[0m\u001b[0;34m\u001b[0m\u001b[0m\n\u001b[0m",
            "\u001b[0;32m/usr/local/lib/python3.7/dist-packages/pandas/core/frame.py\u001b[0m in \u001b[0;36mdrop\u001b[0;34m(self, labels, axis, index, columns, level, inplace, errors)\u001b[0m\n\u001b[1;32m   4172\u001b[0m             \u001b[0mlevel\u001b[0m\u001b[0;34m=\u001b[0m\u001b[0mlevel\u001b[0m\u001b[0;34m,\u001b[0m\u001b[0;34m\u001b[0m\u001b[0;34m\u001b[0m\u001b[0m\n\u001b[1;32m   4173\u001b[0m             \u001b[0minplace\u001b[0m\u001b[0;34m=\u001b[0m\u001b[0minplace\u001b[0m\u001b[0;34m,\u001b[0m\u001b[0;34m\u001b[0m\u001b[0;34m\u001b[0m\u001b[0m\n\u001b[0;32m-> 4174\u001b[0;31m             \u001b[0merrors\u001b[0m\u001b[0;34m=\u001b[0m\u001b[0merrors\u001b[0m\u001b[0;34m,\u001b[0m\u001b[0;34m\u001b[0m\u001b[0;34m\u001b[0m\u001b[0m\n\u001b[0m\u001b[1;32m   4175\u001b[0m         )\n\u001b[1;32m   4176\u001b[0m \u001b[0;34m\u001b[0m\u001b[0m\n",
            "\u001b[0;32m/usr/local/lib/python3.7/dist-packages/pandas/core/generic.py\u001b[0m in \u001b[0;36mdrop\u001b[0;34m(self, labels, axis, index, columns, level, inplace, errors)\u001b[0m\n\u001b[1;32m   3887\u001b[0m         \u001b[0;32mfor\u001b[0m \u001b[0maxis\u001b[0m\u001b[0;34m,\u001b[0m \u001b[0mlabels\u001b[0m \u001b[0;32min\u001b[0m \u001b[0maxes\u001b[0m\u001b[0;34m.\u001b[0m\u001b[0mitems\u001b[0m\u001b[0;34m(\u001b[0m\u001b[0;34m)\u001b[0m\u001b[0;34m:\u001b[0m\u001b[0;34m\u001b[0m\u001b[0;34m\u001b[0m\u001b[0m\n\u001b[1;32m   3888\u001b[0m             \u001b[0;32mif\u001b[0m \u001b[0mlabels\u001b[0m \u001b[0;32mis\u001b[0m \u001b[0;32mnot\u001b[0m \u001b[0;32mNone\u001b[0m\u001b[0;34m:\u001b[0m\u001b[0;34m\u001b[0m\u001b[0;34m\u001b[0m\u001b[0m\n\u001b[0;32m-> 3889\u001b[0;31m                 \u001b[0mobj\u001b[0m \u001b[0;34m=\u001b[0m \u001b[0mobj\u001b[0m\u001b[0;34m.\u001b[0m\u001b[0m_drop_axis\u001b[0m\u001b[0;34m(\u001b[0m\u001b[0mlabels\u001b[0m\u001b[0;34m,\u001b[0m \u001b[0maxis\u001b[0m\u001b[0;34m,\u001b[0m \u001b[0mlevel\u001b[0m\u001b[0;34m=\u001b[0m\u001b[0mlevel\u001b[0m\u001b[0;34m,\u001b[0m \u001b[0merrors\u001b[0m\u001b[0;34m=\u001b[0m\u001b[0merrors\u001b[0m\u001b[0;34m)\u001b[0m\u001b[0;34m\u001b[0m\u001b[0;34m\u001b[0m\u001b[0m\n\u001b[0m\u001b[1;32m   3890\u001b[0m \u001b[0;34m\u001b[0m\u001b[0m\n\u001b[1;32m   3891\u001b[0m         \u001b[0;32mif\u001b[0m \u001b[0minplace\u001b[0m\u001b[0;34m:\u001b[0m\u001b[0;34m\u001b[0m\u001b[0;34m\u001b[0m\u001b[0m\n",
            "\u001b[0;32m/usr/local/lib/python3.7/dist-packages/pandas/core/generic.py\u001b[0m in \u001b[0;36m_drop_axis\u001b[0;34m(self, labels, axis, level, errors)\u001b[0m\n\u001b[1;32m   3921\u001b[0m                 \u001b[0mnew_axis\u001b[0m \u001b[0;34m=\u001b[0m \u001b[0maxis\u001b[0m\u001b[0;34m.\u001b[0m\u001b[0mdrop\u001b[0m\u001b[0;34m(\u001b[0m\u001b[0mlabels\u001b[0m\u001b[0;34m,\u001b[0m \u001b[0mlevel\u001b[0m\u001b[0;34m=\u001b[0m\u001b[0mlevel\u001b[0m\u001b[0;34m,\u001b[0m \u001b[0merrors\u001b[0m\u001b[0;34m=\u001b[0m\u001b[0merrors\u001b[0m\u001b[0;34m)\u001b[0m\u001b[0;34m\u001b[0m\u001b[0;34m\u001b[0m\u001b[0m\n\u001b[1;32m   3922\u001b[0m             \u001b[0;32melse\u001b[0m\u001b[0;34m:\u001b[0m\u001b[0;34m\u001b[0m\u001b[0;34m\u001b[0m\u001b[0m\n\u001b[0;32m-> 3923\u001b[0;31m                 \u001b[0mnew_axis\u001b[0m \u001b[0;34m=\u001b[0m \u001b[0maxis\u001b[0m\u001b[0;34m.\u001b[0m\u001b[0mdrop\u001b[0m\u001b[0;34m(\u001b[0m\u001b[0mlabels\u001b[0m\u001b[0;34m,\u001b[0m \u001b[0merrors\u001b[0m\u001b[0;34m=\u001b[0m\u001b[0merrors\u001b[0m\u001b[0;34m)\u001b[0m\u001b[0;34m\u001b[0m\u001b[0;34m\u001b[0m\u001b[0m\n\u001b[0m\u001b[1;32m   3924\u001b[0m             \u001b[0mresult\u001b[0m \u001b[0;34m=\u001b[0m \u001b[0mself\u001b[0m\u001b[0;34m.\u001b[0m\u001b[0mreindex\u001b[0m\u001b[0;34m(\u001b[0m\u001b[0;34m**\u001b[0m\u001b[0;34m{\u001b[0m\u001b[0maxis_name\u001b[0m\u001b[0;34m:\u001b[0m \u001b[0mnew_axis\u001b[0m\u001b[0;34m}\u001b[0m\u001b[0;34m)\u001b[0m\u001b[0;34m\u001b[0m\u001b[0;34m\u001b[0m\u001b[0m\n\u001b[1;32m   3925\u001b[0m \u001b[0;34m\u001b[0m\u001b[0m\n",
            "\u001b[0;32m/usr/local/lib/python3.7/dist-packages/pandas/core/indexes/base.py\u001b[0m in \u001b[0;36mdrop\u001b[0;34m(self, labels, errors)\u001b[0m\n\u001b[1;32m   5285\u001b[0m         \u001b[0;32mif\u001b[0m \u001b[0mmask\u001b[0m\u001b[0;34m.\u001b[0m\u001b[0many\u001b[0m\u001b[0;34m(\u001b[0m\u001b[0;34m)\u001b[0m\u001b[0;34m:\u001b[0m\u001b[0;34m\u001b[0m\u001b[0;34m\u001b[0m\u001b[0m\n\u001b[1;32m   5286\u001b[0m             \u001b[0;32mif\u001b[0m \u001b[0merrors\u001b[0m \u001b[0;34m!=\u001b[0m \u001b[0;34m\"ignore\"\u001b[0m\u001b[0;34m:\u001b[0m\u001b[0;34m\u001b[0m\u001b[0;34m\u001b[0m\u001b[0m\n\u001b[0;32m-> 5287\u001b[0;31m                 \u001b[0;32mraise\u001b[0m \u001b[0mKeyError\u001b[0m\u001b[0;34m(\u001b[0m\u001b[0;34mf\"{labels[mask]} not found in axis\"\u001b[0m\u001b[0;34m)\u001b[0m\u001b[0;34m\u001b[0m\u001b[0;34m\u001b[0m\u001b[0m\n\u001b[0m\u001b[1;32m   5288\u001b[0m             \u001b[0mindexer\u001b[0m \u001b[0;34m=\u001b[0m \u001b[0mindexer\u001b[0m\u001b[0;34m[\u001b[0m\u001b[0;34m~\u001b[0m\u001b[0mmask\u001b[0m\u001b[0;34m]\u001b[0m\u001b[0;34m\u001b[0m\u001b[0;34m\u001b[0m\u001b[0m\n\u001b[1;32m   5289\u001b[0m         \u001b[0;32mreturn\u001b[0m \u001b[0mself\u001b[0m\u001b[0;34m.\u001b[0m\u001b[0mdelete\u001b[0m\u001b[0;34m(\u001b[0m\u001b[0mindexer\u001b[0m\u001b[0;34m)\u001b[0m\u001b[0;34m\u001b[0m\u001b[0;34m\u001b[0m\u001b[0m\n",
            "\u001b[0;31mKeyError\u001b[0m: \"['Sex'] not found in axis\""
          ]
        }
      ]
    },
    {
      "cell_type": "code",
      "metadata": {
        "id": "CxwK4roCZMwq"
      },
      "source": [
        "xtrain,xtest,ytrain,ytest=train_test_split(input,target,test_size=0.2)"
      ],
      "execution_count": 149,
      "outputs": []
    },
    {
      "cell_type": "code",
      "metadata": {
        "colab": {
          "base_uri": "https://localhost:8080/"
        },
        "id": "ffwkVLmLaz7a",
        "outputId": "c539ee4a-862d-42ef-c4c9-58b4bdfda3d3"
      },
      "source": [
        "xtrain.shape"
      ],
      "execution_count": 150,
      "outputs": [
        {
          "output_type": "execute_result",
          "data": {
            "text/plain": [
              "(712, 5)"
            ]
          },
          "metadata": {
            "tags": []
          },
          "execution_count": 150
        }
      ]
    },
    {
      "cell_type": "code",
      "metadata": {
        "colab": {
          "base_uri": "https://localhost:8080/"
        },
        "id": "C3M6mX8-a1oq",
        "outputId": "4bdfeeff-bc8d-4b45-de31-fe1c769f36bb"
      },
      "source": [
        "xtest.shape"
      ],
      "execution_count": 151,
      "outputs": [
        {
          "output_type": "execute_result",
          "data": {
            "text/plain": [
              "(179, 5)"
            ]
          },
          "metadata": {
            "tags": []
          },
          "execution_count": 151
        }
      ]
    },
    {
      "cell_type": "code",
      "metadata": {
        "colab": {
          "base_uri": "https://localhost:8080/",
          "height": 419
        },
        "id": "GQc016esbSzc",
        "outputId": "36728f5d-8544-4bce-e5bf-4ab8ecadf01b"
      },
      "source": [
        "input"
      ],
      "execution_count": 152,
      "outputs": [
        {
          "output_type": "execute_result",
          "data": {
            "text/html": [
              "<div>\n",
              "<style scoped>\n",
              "    .dataframe tbody tr th:only-of-type {\n",
              "        vertical-align: middle;\n",
              "    }\n",
              "\n",
              "    .dataframe tbody tr th {\n",
              "        vertical-align: top;\n",
              "    }\n",
              "\n",
              "    .dataframe thead th {\n",
              "        text-align: right;\n",
              "    }\n",
              "</style>\n",
              "<table border=\"1\" class=\"dataframe\">\n",
              "  <thead>\n",
              "    <tr style=\"text-align: right;\">\n",
              "      <th></th>\n",
              "      <th>Pclass</th>\n",
              "      <th>Age</th>\n",
              "      <th>Fare</th>\n",
              "      <th>female</th>\n",
              "      <th>male</th>\n",
              "    </tr>\n",
              "  </thead>\n",
              "  <tbody>\n",
              "    <tr>\n",
              "      <th>0</th>\n",
              "      <td>3</td>\n",
              "      <td>22.000000</td>\n",
              "      <td>7.2500</td>\n",
              "      <td>0</td>\n",
              "      <td>1</td>\n",
              "    </tr>\n",
              "    <tr>\n",
              "      <th>1</th>\n",
              "      <td>1</td>\n",
              "      <td>38.000000</td>\n",
              "      <td>71.2833</td>\n",
              "      <td>1</td>\n",
              "      <td>0</td>\n",
              "    </tr>\n",
              "    <tr>\n",
              "      <th>2</th>\n",
              "      <td>3</td>\n",
              "      <td>26.000000</td>\n",
              "      <td>7.9250</td>\n",
              "      <td>1</td>\n",
              "      <td>0</td>\n",
              "    </tr>\n",
              "    <tr>\n",
              "      <th>3</th>\n",
              "      <td>1</td>\n",
              "      <td>35.000000</td>\n",
              "      <td>53.1000</td>\n",
              "      <td>1</td>\n",
              "      <td>0</td>\n",
              "    </tr>\n",
              "    <tr>\n",
              "      <th>4</th>\n",
              "      <td>3</td>\n",
              "      <td>35.000000</td>\n",
              "      <td>8.0500</td>\n",
              "      <td>0</td>\n",
              "      <td>1</td>\n",
              "    </tr>\n",
              "    <tr>\n",
              "      <th>...</th>\n",
              "      <td>...</td>\n",
              "      <td>...</td>\n",
              "      <td>...</td>\n",
              "      <td>...</td>\n",
              "      <td>...</td>\n",
              "    </tr>\n",
              "    <tr>\n",
              "      <th>886</th>\n",
              "      <td>2</td>\n",
              "      <td>27.000000</td>\n",
              "      <td>13.0000</td>\n",
              "      <td>0</td>\n",
              "      <td>1</td>\n",
              "    </tr>\n",
              "    <tr>\n",
              "      <th>887</th>\n",
              "      <td>1</td>\n",
              "      <td>19.000000</td>\n",
              "      <td>30.0000</td>\n",
              "      <td>1</td>\n",
              "      <td>0</td>\n",
              "    </tr>\n",
              "    <tr>\n",
              "      <th>888</th>\n",
              "      <td>3</td>\n",
              "      <td>29.699118</td>\n",
              "      <td>23.4500</td>\n",
              "      <td>1</td>\n",
              "      <td>0</td>\n",
              "    </tr>\n",
              "    <tr>\n",
              "      <th>889</th>\n",
              "      <td>1</td>\n",
              "      <td>26.000000</td>\n",
              "      <td>30.0000</td>\n",
              "      <td>0</td>\n",
              "      <td>1</td>\n",
              "    </tr>\n",
              "    <tr>\n",
              "      <th>890</th>\n",
              "      <td>3</td>\n",
              "      <td>32.000000</td>\n",
              "      <td>7.7500</td>\n",
              "      <td>0</td>\n",
              "      <td>1</td>\n",
              "    </tr>\n",
              "  </tbody>\n",
              "</table>\n",
              "<p>891 rows × 5 columns</p>\n",
              "</div>"
            ],
            "text/plain": [
              "     Pclass        Age     Fare  female  male\n",
              "0         3  22.000000   7.2500       0     1\n",
              "1         1  38.000000  71.2833       1     0\n",
              "2         3  26.000000   7.9250       1     0\n",
              "3         1  35.000000  53.1000       1     0\n",
              "4         3  35.000000   8.0500       0     1\n",
              "..      ...        ...      ...     ...   ...\n",
              "886       2  27.000000  13.0000       0     1\n",
              "887       1  19.000000  30.0000       1     0\n",
              "888       3  29.699118  23.4500       1     0\n",
              "889       1  26.000000  30.0000       0     1\n",
              "890       3  32.000000   7.7500       0     1\n",
              "\n",
              "[891 rows x 5 columns]"
            ]
          },
          "metadata": {
            "tags": []
          },
          "execution_count": 152
        }
      ]
    },
    {
      "cell_type": "code",
      "metadata": {
        "colab": {
          "base_uri": "https://localhost:8080/"
        },
        "id": "sOlnYG5ma2hy",
        "outputId": "4e5eedd3-1e2c-4dce-c01f-da9026890ed8"
      },
      "source": [
        "from sklearn.naive_bayes import GaussianNB\n",
        "model=GaussianNB(var_smoothing=1e-09)\n",
        "model.fit(xtrain,ytrain)"
      ],
      "execution_count": 153,
      "outputs": [
        {
          "output_type": "execute_result",
          "data": {
            "text/plain": [
              "GaussianNB(priors=None, var_smoothing=1e-09)"
            ]
          },
          "metadata": {
            "tags": []
          },
          "execution_count": 153
        }
      ]
    },
    {
      "cell_type": "code",
      "metadata": {
        "colab": {
          "base_uri": "https://localhost:8080/"
        },
        "id": "AQNKEYi1bMFK",
        "outputId": "285b6eab-203c-4cf6-f11d-7a3285721d03"
      },
      "source": [
        "model.score(xtest,ytest)"
      ],
      "execution_count": 154,
      "outputs": [
        {
          "output_type": "execute_result",
          "data": {
            "text/plain": [
              "0.8100558659217877"
            ]
          },
          "metadata": {
            "tags": []
          },
          "execution_count": 154
        }
      ]
    },
    {
      "cell_type": "markdown",
      "metadata": {
        "id": "LRXMrdJecvxK"
      },
      "source": [
        "Now we know this model has a probability attribute"
      ]
    },
    {
      "cell_type": "code",
      "metadata": {
        "id": "_qOHqoUHdMmW"
      },
      "source": [
        "pred=model.predict(xtest)"
      ],
      "execution_count": 155,
      "outputs": []
    },
    {
      "cell_type": "code",
      "metadata": {
        "colab": {
          "base_uri": "https://localhost:8080/"
        },
        "id": "z8YvOcOpcJla",
        "outputId": "4c80bdb5-581f-4b89-da03-7f248f17b892"
      },
      "source": [
        "model.predict_proba(xtest)"
      ],
      "execution_count": 156,
      "outputs": [
        {
          "output_type": "execute_result",
          "data": {
            "text/plain": [
              "array([[8.32175457e-02, 9.16782454e-01],\n",
              "       [3.93253845e-02, 9.60674616e-01],\n",
              "       [9.88999917e-01, 1.10000833e-02],\n",
              "       [3.84810186e-02, 9.61518981e-01],\n",
              "       [3.63162142e-02, 9.63683786e-01],\n",
              "       [3.75814598e-02, 9.62418540e-01],\n",
              "       [6.98392810e-01, 3.01607190e-01],\n",
              "       [6.58748484e-02, 9.34125152e-01],\n",
              "       [9.90697833e-01, 9.30216698e-03],\n",
              "       [9.90396926e-01, 9.60307441e-03],\n",
              "       [8.46574906e-01, 1.53425094e-01],\n",
              "       [9.90396926e-01, 9.60307441e-03],\n",
              "       [9.55291080e-01, 4.47089200e-02],\n",
              "       [9.90162571e-01, 9.83742905e-03],\n",
              "       [1.57792856e-05, 9.99984221e-01],\n",
              "       [9.76469645e-01, 2.35303547e-02],\n",
              "       [9.90697833e-01, 9.30216698e-03],\n",
              "       [9.90540297e-01, 9.45970312e-03],\n",
              "       [9.90565827e-01, 9.43417316e-03],\n",
              "       [8.63935640e-02, 9.13606436e-01],\n",
              "       [9.88341233e-01, 1.16587670e-02],\n",
              "       [9.89823820e-01, 1.01761800e-02],\n",
              "       [4.14358838e-04, 9.99585641e-01],\n",
              "       [4.61488139e-02, 9.53851186e-01],\n",
              "       [8.84139762e-02, 9.11586024e-01],\n",
              "       [1.76007497e-05, 9.99982399e-01],\n",
              "       [8.41964108e-02, 9.15803589e-01],\n",
              "       [5.79746796e-01, 4.20253204e-01],\n",
              "       [9.05519871e-01, 9.44801287e-02],\n",
              "       [8.53565860e-02, 9.14643414e-01],\n",
              "       [8.64490668e-02, 9.13550933e-01],\n",
              "       [7.51528786e-02, 9.24847121e-01],\n",
              "       [8.70358828e-02, 9.12964117e-01],\n",
              "       [8.48723687e-01, 1.51276313e-01],\n",
              "       [9.89238881e-01, 1.07611186e-02],\n",
              "       [9.11583093e-01, 8.84169068e-02],\n",
              "       [9.64434382e-01, 3.55656175e-02],\n",
              "       [9.76736842e-01, 2.32631584e-02],\n",
              "       [7.55951555e-01, 2.44048445e-01],\n",
              "       [8.53767204e-02, 9.14623280e-01],\n",
              "       [9.90209679e-01, 9.79032060e-03],\n",
              "       [9.90157371e-01, 9.84262947e-03],\n",
              "       [9.89475692e-01, 1.05243080e-02],\n",
              "       [9.90310355e-01, 9.68964482e-03],\n",
              "       [9.38543154e-01, 6.14568457e-02],\n",
              "       [9.75477943e-01, 2.45220570e-02],\n",
              "       [9.90683571e-01, 9.31642944e-03],\n",
              "       [8.44517200e-01, 1.55482800e-01],\n",
              "       [6.35094458e-01, 3.64905542e-01],\n",
              "       [8.71542597e-02, 9.12845740e-01],\n",
              "       [3.92332419e-02, 9.60766758e-01],\n",
              "       [9.70327062e-01, 2.96729380e-02],\n",
              "       [9.90683571e-01, 9.31642944e-03],\n",
              "       [9.90657194e-01, 9.34280637e-03],\n",
              "       [9.88139177e-01, 1.18608232e-02],\n",
              "       [9.90519306e-01, 9.48069363e-03],\n",
              "       [3.77008540e-02, 9.62299146e-01],\n",
              "       [3.97398977e-02, 9.60260102e-01],\n",
              "       [6.22335645e-03, 9.93776644e-01],\n",
              "       [8.73992264e-01, 1.26007736e-01],\n",
              "       [9.90540297e-01, 9.45970312e-03],\n",
              "       [9.76469645e-01, 2.35303547e-02],\n",
              "       [3.96408343e-02, 9.60359166e-01],\n",
              "       [9.76805286e-01, 2.31947136e-02],\n",
              "       [9.89320237e-01, 1.06797632e-02],\n",
              "       [8.28601795e-03, 9.91713982e-01],\n",
              "       [8.84507676e-02, 9.11549232e-01],\n",
              "       [8.90055946e-01, 1.09944054e-01],\n",
              "       [9.90596363e-01, 9.40363670e-03],\n",
              "       [8.93335000e-02, 9.10666500e-01],\n",
              "       [4.12599020e-04, 9.99587401e-01],\n",
              "       [9.89507405e-01, 1.04925951e-02],\n",
              "       [9.88475879e-01, 1.15241213e-02],\n",
              "       [9.82675076e-01, 1.73249245e-02],\n",
              "       [9.81765645e-01, 1.82343547e-02],\n",
              "       [7.08010719e-01, 2.91989281e-01],\n",
              "       [9.90515966e-01, 9.48403372e-03],\n",
              "       [9.76881441e-01, 2.31185592e-02],\n",
              "       [7.39582538e-02, 9.26041746e-01],\n",
              "       [9.89241995e-01, 1.07580053e-02],\n",
              "       [9.78403037e-01, 2.15969633e-02],\n",
              "       [8.01010852e-02, 9.19898915e-01],\n",
              "       [9.90534819e-01, 9.46518078e-03],\n",
              "       [9.90586676e-01, 9.41332424e-03],\n",
              "       [9.77989726e-01, 2.20102736e-02],\n",
              "       [9.90691243e-01, 9.30875664e-03],\n",
              "       [3.31879566e-02, 9.66812043e-01],\n",
              "       [9.90707441e-01, 9.29255937e-03],\n",
              "       [2.02508194e-36, 1.00000000e+00],\n",
              "       [8.01010852e-02, 9.19898915e-01],\n",
              "       [9.90536132e-01, 9.46386845e-03],\n",
              "       [1.32755438e-01, 8.67244562e-01],\n",
              "       [9.90545476e-01, 9.45452370e-03],\n",
              "       [9.66358050e-01, 3.36419500e-02],\n",
              "       [9.88120272e-01, 1.18797275e-02],\n",
              "       [9.90398773e-01, 9.60122721e-03],\n",
              "       [8.36263894e-01, 1.63736106e-01],\n",
              "       [3.23105775e-02, 9.67689422e-01],\n",
              "       [9.78907008e-01, 2.10929916e-02],\n",
              "       [9.90488634e-01, 9.51136610e-03],\n",
              "       [9.87737834e-01, 1.22621663e-02],\n",
              "       [9.15252061e-01, 8.47479389e-02],\n",
              "       [8.47690594e-01, 1.52309406e-01],\n",
              "       [9.90535258e-01, 9.46474232e-03],\n",
              "       [9.90545476e-01, 9.45452370e-03],\n",
              "       [9.87782080e-01, 1.22179198e-02],\n",
              "       [4.04146890e-02, 9.59585311e-01],\n",
              "       [3.20448984e-02, 9.67955102e-01],\n",
              "       [9.76469645e-01, 2.35303547e-02],\n",
              "       [9.88719419e-01, 1.12805807e-02],\n",
              "       [1.44889901e-03, 9.98551101e-01],\n",
              "       [4.56205330e-02, 9.54379467e-01],\n",
              "       [9.89985982e-01, 1.00140179e-02],\n",
              "       [8.86109527e-02, 9.11389047e-01],\n",
              "       [9.90626169e-01, 9.37383123e-03],\n",
              "       [3.80483215e-02, 9.61951678e-01],\n",
              "       [9.15201785e-01, 8.47982152e-02],\n",
              "       [9.77123790e-01, 2.28762095e-02],\n",
              "       [2.84941819e-02, 9.71505818e-01],\n",
              "       [9.88424961e-01, 1.15750388e-02],\n",
              "       [7.14329097e-02, 9.28567090e-01],\n",
              "       [9.90540297e-01, 9.45970312e-03],\n",
              "       [9.89994584e-01, 1.00054160e-02],\n",
              "       [9.90248825e-01, 9.75117549e-03],\n",
              "       [9.53974238e-01, 4.60257622e-02],\n",
              "       [3.70476852e-02, 9.62952315e-01],\n",
              "       [9.88995053e-01, 1.10049470e-02],\n",
              "       [9.78644449e-01, 2.13555511e-02],\n",
              "       [3.77008824e-02, 9.62299118e-01],\n",
              "       [9.90173118e-01, 9.82688230e-03],\n",
              "       [8.78015343e-02, 9.12198466e-01],\n",
              "       [9.76171541e-01, 2.38284591e-02],\n",
              "       [4.39827496e-02, 9.56017250e-01],\n",
              "       [9.77516029e-01, 2.24839710e-02],\n",
              "       [1.93897248e-01, 8.06102752e-01],\n",
              "       [8.27811240e-06, 9.99991722e-01],\n",
              "       [9.90615112e-01, 9.38488763e-03],\n",
              "       [9.90254350e-01, 9.74565029e-03],\n",
              "       [6.03867131e-12, 1.00000000e+00],\n",
              "       [3.98202785e-02, 9.60179721e-01],\n",
              "       [9.43220366e-03, 9.90567796e-01],\n",
              "       [9.83623087e-01, 1.63769127e-02],\n",
              "       [9.20624715e-01, 7.93752848e-02],\n",
              "       [4.03304111e-02, 9.59669589e-01],\n",
              "       [9.89504696e-01, 1.04953044e-02],\n",
              "       [9.14823163e-01, 8.51768371e-02],\n",
              "       [8.28332292e-01, 1.71667708e-01],\n",
              "       [9.90376052e-01, 9.62394763e-03],\n",
              "       [9.90487711e-01, 9.51228872e-03],\n",
              "       [9.90663758e-01, 9.33624237e-03],\n",
              "       [9.11573000e-01, 8.84270002e-02],\n",
              "       [2.61570771e-01, 7.38429229e-01],\n",
              "       [6.14882612e-12, 1.00000000e+00],\n",
              "       [4.32016696e-06, 9.99995680e-01],\n",
              "       [9.90658365e-01, 9.34163529e-03],\n",
              "       [8.91428428e-02, 9.10857157e-01],\n",
              "       [9.52351870e-01, 4.76481300e-02],\n",
              "       [3.63078413e-02, 9.63692159e-01],\n",
              "       [9.89890691e-01, 1.01093087e-02],\n",
              "       [9.90516128e-01, 9.48387225e-03],\n",
              "       [4.98292242e-03, 9.95017078e-01],\n",
              "       [3.59465585e-03, 9.96405344e-01],\n",
              "       [9.82457457e-01, 1.75425431e-02],\n",
              "       [6.07246884e-01, 3.92753116e-01],\n",
              "       [9.72366088e-01, 2.76339119e-02],\n",
              "       [9.78736004e-01, 2.12639965e-02],\n",
              "       [9.46671688e-01, 5.33283118e-02],\n",
              "       [8.08444022e-02, 9.19155598e-01],\n",
              "       [5.75716993e-01, 4.24283007e-01],\n",
              "       [9.88414429e-01, 1.15855705e-02],\n",
              "       [8.62247276e-02, 9.13775272e-01],\n",
              "       [9.20624715e-01, 7.93752848e-02],\n",
              "       [5.51089936e-02, 9.44891006e-01],\n",
              "       [9.90673615e-01, 9.32638487e-03],\n",
              "       [9.75564423e-01, 2.44355769e-02],\n",
              "       [9.74262037e-01, 2.57379633e-02],\n",
              "       [9.88120272e-01, 1.18797275e-02],\n",
              "       [9.13958250e-01, 8.60417496e-02],\n",
              "       [3.73980561e-04, 9.99626019e-01]])"
            ]
          },
          "metadata": {
            "tags": []
          },
          "execution_count": 156
        }
      ]
    },
    {
      "cell_type": "code",
      "metadata": {
        "id": "9zH8PjeTc-aL"
      },
      "source": [
        "cm=confusion_matrix(pred,ytest)"
      ],
      "execution_count": 157,
      "outputs": []
    },
    {
      "cell_type": "code",
      "metadata": {
        "colab": {
          "base_uri": "https://localhost:8080/",
          "height": 609
        },
        "id": "zcvQWtB0dRcU",
        "outputId": "1eeee783-8916-4ab8-ecf2-f8439ac86cde"
      },
      "source": [
        "plt.figure(figsize=(10,10))\n",
        "sns.heatmap(cm,annot=True)"
      ],
      "execution_count": 158,
      "outputs": [
        {
          "output_type": "execute_result",
          "data": {
            "text/plain": [
              "<matplotlib.axes._subplots.AxesSubplot at 0x7f842275ebd0>"
            ]
          },
          "metadata": {
            "tags": []
          },
          "execution_count": 158
        },
        {
          "output_type": "display_data",
          "data": {
            "image/png": "[encoded data removed]",
            "text/plain": [
              "<Figure size 720x720 with 2 Axes>"
            ]
          },
          "metadata": {
            "tags": [],
            "needs_background": "light"
          }
        }
      ]
    },
    {
      "cell_type": "code",
      "metadata": {
        "id": "ub_TdCXudcw7"
      },
      "source": [
        "# so we have 34 mis classfied entries\n"
      ],
      "execution_count": 159,
      "outputs": []
    },
    {
      "cell_type": "code",
      "metadata": {
        "id": "Iijn2n5NfVAg"
      },
      "source": [
        ""
      ],
      "execution_count": 159,
      "outputs": []
    }
  ]
}